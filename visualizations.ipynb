{
 "cells": [
  {
   "cell_type": "markdown",
   "metadata": {},
   "source": [
    "Code to create visualizations from data obtained from sensors."
   ]
  },
  {
   "cell_type": "code",
   "execution_count": 9,
   "metadata": {},
   "outputs": [
    {
     "name": "stdout",
     "output_type": "stream",
     "text": [
      "[[ 10.   0.   0.]\n",
      " [ 10.  30.   0.]\n",
      " [ 10. -30.   0.]\n",
      " [ 10.   0.  30.]\n",
      " [ 10.  30.  30.]\n",
      " [ 10. -30.  30.]\n",
      " [ 10.   0. -30.]\n",
      " [ 10.  30. -30.]\n",
      " [ 10. -30. -30.]]\n"
     ]
    },
    {
     "name": "stderr",
     "output_type": "stream",
     "text": [
      "<>:16: SyntaxWarning: invalid escape sequence '\\p'\n",
      "<>:16: SyntaxWarning: invalid escape sequence '\\p'\n",
      "C:\\Users\\jespinozadiaz\\AppData\\Local\\Temp\\ipykernel_21952\\2990562614.py:16: SyntaxWarning: invalid escape sequence '\\p'\n",
      "  \"\"\"\n"
     ]
    },
    {
     "data": {
      "text/plain": [
       "\"\\nfig = plt.figure()\\nax = fig.add_subplot(projection='3d')\\n\\n# Create the mesh in polar coordinates and compute corresponding Z.\\nr = np.linspace(0, 1.25, 50)\\np = np.linspace(0, 2*np.pi, 50)\\nR, P = np.meshgrid(r, p)\\nZ = ((R**2 - 1)**2)\\n\\n# Express the mesh in the cartesian system.\\nX, Y = R*np.cos(P), R*np.sin(P)\\n\\n# Plot the surface.\\nax.plot_surface(X, Y, Z, cmap=plt.cm.YlGnBu_r)\\n\\n# Tweak the limits and add latex math labels.\\nax.set_zlim(0, 1)\\nax.set_xlabel(r'$\\\\phi_\\\\mathrm{real}$')\\nax.set_ylabel(r'$\\\\phi_\\\\mathrm{im}$')\\nax.set_zlabel(r'$V(\\\\phi)$')\\n\\nplt.show()\\n\""
      ]
     },
     "execution_count": 9,
     "metadata": {},
     "output_type": "execute_result"
    }
   ],
   "source": [
    "import matplotlib.pyplot as plt\n",
    "import numpy as np\n",
    "import csv\n",
    "\n",
    "dataSource = 'Tests/3dplot_trial.csv'\n",
    "\n",
    "with open(dataSource, 'r') as file:\n",
    "    reader = csv.reader(file)\n",
    "    next(reader)\n",
    "    data = list(reader)\n",
    "\n",
    "data_array = np.array(data, dtype=float)\n",
    "\n",
    "print(data_array)\n",
    "\n",
    "\"\"\"\n",
    "fig = plt.figure()\n",
    "ax = fig.add_subplot(projection='3d')\n",
    "\n",
    "# Create the mesh in polar coordinates and compute corresponding Z.\n",
    "r = np.linspace(0, 1.25, 50)\n",
    "p = np.linspace(0, 2*np.pi, 50)\n",
    "R, P = np.meshgrid(r, p)\n",
    "Z = ((R**2 - 1)**2)\n",
    "\n",
    "# Express the mesh in the cartesian system.\n",
    "X, Y = R*np.cos(P), R*np.sin(P)\n",
    "\n",
    "# Plot the surface.\n",
    "ax.plot_surface(X, Y, Z, cmap=plt.cm.YlGnBu_r)\n",
    "\n",
    "# Tweak the limits and add latex math labels.\n",
    "ax.set_zlim(0, 1)\n",
    "ax.set_xlabel(r'$\\phi_\\mathrm{real}$')\n",
    "ax.set_ylabel(r'$\\phi_\\mathrm{im}$')\n",
    "ax.set_zlabel(r'$V(\\phi)$')\n",
    "\n",
    "plt.show()\n",
    "\"\"\""
   ]
  }
 ],
 "metadata": {
  "kernelspec": {
   "display_name": "Python 3",
   "language": "python",
   "name": "python3"
  },
  "language_info": {
   "codemirror_mode": {
    "name": "ipython",
    "version": 3
   },
   "file_extension": ".py",
   "mimetype": "text/x-python",
   "name": "python",
   "nbconvert_exporter": "python",
   "pygments_lexer": "ipython3",
   "version": "3.12.6"
  }
 },
 "nbformat": 4,
 "nbformat_minor": 2
}
